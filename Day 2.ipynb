{
 "cells": [
  {
   "cell_type": "markdown",
   "source": [
    "# --- Day 2: Cube Conundrum ---\n",
    "\n",
    "You're launched high into the atmosphere! The apex of your trajectory just barely reaches the surface of a large island floating in the sky. You gently land in a fluffy pile of leaves. It's quite cold, but you don't see much snow. An Elf runs over to greet you.\n",
    "\n",
    "The Elf explains that you've arrived at Snow Island and apologizes for the lack of snow. He'll be happy to explain the situation, but it's a bit of a walk, so you have some time. They don't get many visitors up here; would you like to play a game in the meantime?\n",
    "\n",
    "As you walk, the Elf shows you a small bag and some cubes which are either red, green, or blue. Each time you play this game, he will hide a secret number of cubes of each color in the bag, and your goal is to figure out information about the number of cubes.\n",
    "\n",
    "To get information, once a bag has been loaded with cubes, the Elf will reach into the bag, grab a handful of random cubes, show them to you, and then put them back in the bag. He'll do this a few times per game.\n",
    "\n",
    "You play several games and record the information from each game (your puzzle input). Each game is listed with its ID number (like the 11 in Game 11: ...) followed by a semicolon-separated list of subsets of cubes that were revealed from the bag (like 3 red, 5 green, 4 blue).\n",
    "\n",
    "For example, the record of a few games might look like this:\n",
    "\n",
    ">Game 1: 3 blue, 4 red; 1 red, 2 green, 6 blue; 2 green\n",
    "Game 2: 1 blue, 2 green; 3 green, 4 blue, 1 red; 1 green, 1 blue\n",
    "Game 3: 8 green, 6 blue, 20 red; 5 blue, 4 red, 13 green; 5 green, 1 red\n",
    "Game 4: 1 green, 3 red, 6 blue; 3 green, 6 red; 3 green, 15 blue, 14 red\n",
    "Game 5: 6 red, 1 blue, 3 green; 2 blue, 1 red, 2 green\n",
    "\n",
    "In game 1, three sets of cubes are revealed from the bag (and then put back again). The first set is 3 blue cubes and 4 red cubes; the second set is 1 red cube, 2 green cubes, and 6 blue cubes; the third set is only 2 green cubes.\n",
    "\n",
    "The Elf would first like to know which games would have been possible if the bag contained only 12 red cubes, 13 green cubes, and 14 blue cubes?\n",
    "\n",
    "In the example above, games 1, 2, and 5 would have been possible if the bag had been loaded with that configuration. However, game 3 would have been impossible because at one point the Elf showed you 20 red cubes at once; similarly, game 4 would also have been impossible because the Elf showed you 15 blue cubes at once. If you add up the IDs of the games that would have been possible, you get 8.\n",
    "\n",
    "Determine which games would have been possible if the bag had been loaded with only 12 red cubes, 13 green cubes, and 14 blue cubes. What is the sum of the IDs of those games?"
   ],
   "metadata": {
    "collapsed": false
   },
   "id": "5ac28931a8058c72"
  },
  {
   "cell_type": "code",
   "execution_count": 46,
   "outputs": [],
   "source": [
    "def get_input():\n",
    "    lines = []\n",
    "    with open(\"Day2Input.txt\", encoding=\"utf-8\") as file:\n",
    "        for line in file:\n",
    "            lines.append(line.strip())\n",
    "    return lines"
   ],
   "metadata": {
    "collapsed": false,
    "ExecuteTime": {
     "end_time": "2023-12-07T14:33:35.816467Z",
     "start_time": "2023-12-07T14:33:35.811795Z"
    }
   },
   "id": "28db108aa86363de"
  },
  {
   "cell_type": "code",
   "execution_count": 47,
   "outputs": [],
   "source": [
    "def game_round_counter(input):\n",
    "    return input.count(\";\")"
   ],
   "metadata": {
    "collapsed": false,
    "ExecuteTime": {
     "end_time": "2023-12-07T14:33:35.823725Z",
     "start_time": "2023-12-07T14:33:35.816244Z"
    }
   },
   "id": "ed074bbb12b39065"
  },
  {
   "cell_type": "code",
   "execution_count": 48,
   "outputs": [],
   "source": [
    "def game_organiser(input):\n",
    "    game = [[0, 0, 0], [0, 0, 0], [0, 0, 0], [0, 0, 0], [0, 0, 0], [0, 0, 0]]\n",
    "    parts = input.split(\" \")[2:]\n",
    "    current_round = 0\n",
    "    for index in range(0, len(parts)):\n",
    "        #print(f\"{index} and {current_round}\")\n",
    "        if index < len(parts) - 1:\n",
    "            if parts[index].isnumeric():\n",
    "                if parts[index + 1].startswith(\"r\"):\n",
    "                    game[current_round][0] = int(parts[index])\n",
    "                elif parts[index + 1].startswith(\"g\"):\n",
    "                    game[current_round][1] = int(parts[index])\n",
    "                else:\n",
    "                    game[current_round][2] = int(parts[index])\n",
    "        if parts[index].endswith(\";\"):\n",
    "            current_round += 1\n",
    "    print(game)\n",
    "    return game"
   ],
   "metadata": {
    "collapsed": false,
    "ExecuteTime": {
     "end_time": "2023-12-07T14:33:35.829193Z",
     "start_time": "2023-12-07T14:33:35.825259Z"
    }
   },
   "id": "22793b778cf44374"
  },
  {
   "cell_type": "code",
   "execution_count": 49,
   "outputs": [],
   "source": [
    "def game_checker(game):\n",
    "    max_amounts = [12, 13, 14]\n",
    "    valid_game = True\n",
    "    for game_round in game:\n",
    "        if game_round[0] > max_amounts[0] or game_round[1] > max_amounts[1] or game_round[2] > max_amounts[2]:\n",
    "            valid_game = False\n",
    "            print(f\"Found invalid game round {game_round}\")\n",
    "            break\n",
    "    return valid_game"
   ],
   "metadata": {
    "collapsed": false,
    "ExecuteTime": {
     "end_time": "2023-12-07T14:33:35.834193Z",
     "start_time": "2023-12-07T14:33:35.831265Z"
    }
   },
   "id": "95700423fbf6c37a"
  },
  {
   "cell_type": "code",
   "execution_count": 50,
   "outputs": [
    {
     "name": "stdout",
     "output_type": "stream",
     "text": [
      "[[0, 4, 2], [1, 14, 7], [1, 13, 5], [1, 11, 7], [0, 0, 0], [0, 0, 0]]\n",
      "[[0, 3, 6], [4, 1, 7], [0, 2, 0], [0, 0, 0], [0, 0, 0], [0, 0, 0]]\n",
      "[[3, 0, 4], [4, 7, 2], [6, 7, 1], [0, 5, 10], [6, 9, 1], [1, 12, 8]]\n",
      "[[5, 4, 15], [2, 2, 5], [0, 3, 13], [5, 1, 17], [0, 0, 0], [0, 0, 0]]\n",
      "[[4, 11, 3], [0, 6, 8], [2, 8, 9], [4, 0, 16], [10, 6, 8], [3, 10, 9]]\n",
      "[[9, 4, 2], [7, 2, 15], [13, 2, 6], [6, 5, 7], [19, 4, 15], [0, 0, 0]]\n",
      "[[5, 0, 12], [0, 5, 6], [5, 0, 15], [5, 5, 5], [2, 1, 11], [0, 0, 0]]\n",
      "[[6, 11, 0], [5, 7, 2], [7, 6, 0], [0, 0, 0], [0, 0, 0], [0, 0, 0]]\n",
      "[[5, 11, 1], [0, 4, 1], [2, 8, 0], [2, 1, 2], [2, 3, 0], [0, 0, 0]]\n",
      "[[4, 11, 7], [1, 13, 1], [0, 6, 7], [0, 0, 0], [0, 0, 0], [0, 0, 0]]\n",
      "[[7, 2, 4], [14, 1, 3], [5, 2, 3], [0, 0, 0], [0, 0, 0], [0, 0, 0]]\n",
      "[[1, 6, 6], [3, 1, 2], [6, 7, 2], [0, 0, 0], [0, 0, 0], [0, 0, 0]]\n",
      "[[6, 10, 13], [3, 12, 9], [0, 1, 11], [4, 13, 3], [6, 12, 10], [3, 3, 13]]\n",
      "[[17, 8, 1], [19, 7, 11], [19, 2, 9], [20, 8, 12], [16, 3, 11], [0, 0, 0]]\n",
      "[[3, 1, 5], [0, 4, 9], [9, 5, 6], [0, 0, 0], [0, 0, 0], [0, 0, 0]]\n",
      "[[1, 0, 13], [0, 2, 2], [0, 1, 0], [8, 0, 10], [4, 3, 9], [0, 0, 0]]\n",
      "[[2, 0, 10], [4, 3, 0], [1, 6, 6], [5, 5, 7], [0, 0, 0], [0, 0, 0]]\n",
      "[[3, 1, 0], [2, 0, 5], [2, 0, 5], [0, 0, 0], [0, 0, 0], [0, 0, 0]]\n",
      "[[1, 7, 4], [4, 1, 4], [0, 8, 6], [1, 4, 2], [1, 2, 1], [0, 0, 0]]\n",
      "[[1, 13, 1], [0, 12, 1], [2, 5, 1], [3, 16, 0], [2, 9, 0], [0, 0, 0]]\n",
      "[[8, 2, 2], [5, 0, 3], [5, 2, 2], [0, 0, 7], [0, 0, 0], [0, 0, 0]]\n",
      "[[9, 7, 12], [7, 4, 13], [13, 1, 9], [4, 5, 3], [0, 0, 0], [0, 0, 0]]\n",
      "[[12, 7, 0], [6, 7, 4], [11, 5, 1], [6, 4, 2], [6, 12, 3], [0, 0, 0]]\n",
      "[[11, 0, 4], [17, 6, 9], [2, 8, 0], [6, 2, 16], [0, 0, 0], [0, 0, 0]]\n",
      "[[7, 0, 4], [0, 4, 7], [4, 2, 10], [1, 6, 4], [2, 4, 10], [0, 0, 0]]\n",
      "[[8, 7, 6], [5, 3, 2], [5, 6, 13], [4, 8, 10], [2, 1, 2], [4, 1, 8]]\n",
      "[[13, 7, 3], [17, 1, 1], [16, 3, 3], [3, 5, 5], [13, 4, 8], [15, 2, 6]]\n",
      "[[5, 18, 8], [6, 1, 0], [5, 18, 7], [3, 16, 7], [0, 18, 6], [7, 8, 8]]\n",
      "[[1, 0, 4], [1, 0, 6], [0, 1, 17], [0, 0, 0], [0, 0, 0], [0, 0, 0]]\n",
      "[[1, 2, 5], [6, 7, 2], [4, 2, 11], [4, 5, 6], [5, 7, 8], [0, 0, 0]]\n",
      "[[0, 10, 9], [1, 5, 9], [1, 0, 8], [0, 0, 0], [0, 0, 0], [0, 0, 0]]\n",
      "[[3, 5, 0], [5, 14, 5], [2, 2, 0], [3, 11, 5], [0, 0, 0], [0, 0, 0]]\n",
      "[[8, 10, 7], [4, 15, 18], [6, 1, 0], [8, 11, 18], [0, 0, 0], [0, 0, 0]]\n",
      "[[0, 3, 0], [2, 5, 0], [0, 3, 5], [1, 5, 3], [0, 0, 0], [0, 0, 0]]\n",
      "[[6, 5, 1], [2, 3, 3], [4, 3, 9], [1, 1, 12], [0, 0, 0], [0, 0, 0]]\n",
      "[[16, 14, 3], [2, 1, 4], [18, 9, 4], [14, 4, 4], [0, 11, 4], [0, 0, 0]]\n",
      "[[3, 7, 2], [9, 8, 2], [18, 15, 4], [0, 0, 0], [0, 0, 0], [0, 0, 0]]\n",
      "[[11, 6, 1], [1, 6, 2], [17, 2, 6], [17, 3, 9], [7, 3, 7], [7, 3, 7]]\n",
      "[[0, 2, 1], [7, 2, 1], [4, 2, 1], [12, 0, 1], [0, 0, 0], [0, 0, 0]]\n",
      "[[4, 15, 1], [15, 12, 1], [15, 8, 0], [0, 0, 0], [0, 0, 0], [0, 0, 0]]\n",
      "[[1, 5, 5], [9, 8, 9], [10, 4, 10], [17, 3, 3], [4, 2, 3], [0, 0, 0]]\n",
      "[[10, 17, 2], [6, 10, 10], [8, 6, 3], [8, 9, 2], [0, 13, 5], [4, 18, 11]]\n",
      "[[8, 6, 3], [2, 8, 10], [9, 9, 5], [15, 1, 8], [0, 0, 0], [0, 0, 0]]\n",
      "[[19, 11, 14], [1, 19, 9], [8, 7, 10], [15, 14, 8], [3, 7, 2], [0, 0, 0]]\n",
      "[[4, 4, 9], [2, 13, 7], [10, 12, 10], [0, 0, 0], [0, 0, 0], [0, 0, 0]]\n",
      "[[10, 2, 1], [10, 10, 1], [0, 13, 1], [10, 2, 1], [7, 11, 1], [10, 5, 0]]\n",
      "[[12, 2, 3], [7, 0, 5], [14, 5, 0], [12, 7, 5], [0, 0, 0], [0, 0, 0]]\n",
      "[[5, 3, 1], [7, 8, 4], [17, 5, 4], [12, 0, 1], [0, 0, 0], [0, 0, 0]]\n",
      "[[7, 2, 1], [5, 11, 0], [4, 1, 1], [7, 11, 1], [0, 0, 0], [0, 0, 0]]\n",
      "[[10, 6, 3], [5, 3, 1], [11, 12, 6], [0, 10, 0], [0, 0, 0], [0, 0, 0]]\n",
      "[[1, 1, 18], [0, 0, 15], [4, 11, 13], [8, 1, 18], [8, 10, 7], [0, 0, 0]]\n",
      "[[0, 13, 15], [4, 8, 6], [6, 13, 11], [2, 7, 13], [3, 12, 2], [6, 11, 1]]\n",
      "[[2, 2, 0], [1, 3, 1], [7, 4, 1], [4, 0, 1], [4, 5, 2], [0, 0, 0]]\n",
      "[[2, 5, 8], [3, 6, 2], [4, 8, 1], [0, 0, 0], [0, 0, 0], [0, 0, 0]]\n",
      "[[3, 6, 6], [1, 13, 0], [1, 1, 2], [1, 14, 1], [2, 9, 1], [4, 9, 2]]\n",
      "[[1, 4, 6], [5, 0, 3], [6, 0, 1], [7, 9, 5], [0, 0, 0], [0, 0, 0]]\n",
      "[[5, 5, 8], [11, 8, 3], [11, 7, 9], [12, 3, 2], [0, 0, 0], [0, 0, 0]]\n",
      "[[3, 3, 0], [4, 1, 0], [1, 6, 0], [0, 5, 0], [5, 3, 1], [3, 0, 1]]\n",
      "[[0, 2, 2], [7, 18, 0], [7, 16, 2], [7, 10, 0], [0, 0, 0], [0, 0, 0]]\n",
      "[[4, 0, 3], [3, 3, 4], [0, 16, 0], [0, 0, 0], [0, 0, 0], [0, 0, 0]]\n",
      "[[2, 8, 1], [12, 4, 9], [2, 10, 0], [11, 1, 5], [8, 10, 3], [5, 2, 0]]\n",
      "[[15, 7, 10], [9, 4, 4], [4, 2, 2], [2, 11, 0], [0, 2, 8], [8, 2, 8]]\n",
      "[[1, 2, 3], [5, 0, 7], [0, 0, 7], [0, 0, 0], [0, 0, 0], [0, 0, 0]]\n",
      "[[6, 3, 5], [4, 9, 0], [13, 5, 1], [13, 8, 4], [0, 0, 0], [0, 0, 0]]\n",
      "[[0, 7, 1], [1, 4, 14], [6, 0, 8], [4, 14, 0], [0, 0, 0], [0, 0, 0]]\n",
      "[[6, 11, 7], [6, 0, 1], [13, 3, 7], [8, 15, 6], [4, 7, 6], [4, 20, 1]]\n",
      "[[0, 9, 4], [15, 16, 3], [14, 1, 3], [3, 3, 2], [12, 4, 3], [0, 0, 0]]\n",
      "[[2, 5, 3], [11, 4, 8], [6, 4, 6], [8, 7, 5], [11, 6, 6], [3, 3, 2]]\n",
      "[[5, 16, 15], [3, 13, 10], [4, 2, 5], [1, 0, 0], [5, 11, 15], [0, 0, 0]]\n",
      "[[8, 12, 9], [3, 14, 2], [1, 18, 10], [7, 16, 1], [4, 3, 16], [6, 10, 0]]\n",
      "[[7, 16, 12], [2, 15, 9], [1, 11, 11], [15, 2, 16], [0, 0, 0], [0, 0, 0]]\n",
      "[[11, 6, 1], [1, 5, 2], [2, 4, 0], [12, 2, 0], [0, 0, 0], [0, 0, 0]]\n",
      "[[1, 0, 1], [2, 2, 4], [10, 2, 1], [8, 0, 0], [0, 0, 0], [0, 0, 0]]\n",
      "[[12, 1, 4], [1, 1, 5], [16, 11, 7], [7, 1, 1], [12, 11, 12], [6, 11, 0]]\n",
      "[[8, 12, 3], [7, 10, 0], [1, 1, 7], [0, 0, 0], [0, 0, 0], [0, 0, 0]]\n",
      "[[1, 4, 3], [3, 3, 7], [2, 3, 4], [0, 1, 4], [0, 0, 0], [0, 0, 0]]\n",
      "[[10, 2, 12], [7, 0, 5], [2, 6, 0], [2, 6, 1], [0, 0, 0], [0, 0, 0]]\n",
      "[[4, 2, 4], [10, 8, 10], [10, 5, 8], [2, 6, 0], [0, 0, 0], [0, 0, 0]]\n",
      "[[11, 3, 2], [8, 11, 1], [16, 0, 1], [5, 7, 16], [12, 7, 9], [4, 12, 20]]\n",
      "[[3, 5, 0], [0, 4, 2], [2, 12, 4], [1, 10, 1], [3, 0, 4], [0, 0, 0]]\n",
      "[[1, 1, 1], [3, 5, 1], [0, 6, 1], [0, 1, 0], [1, 5, 2], [1, 3, 1]]\n",
      "[[3, 7, 10], [12, 10, 12], [18, 8, 14], [3, 3, 10], [3, 5, 1], [0, 1, 8]]\n",
      "[[9, 0, 3], [8, 3, 14], [4, 5, 14], [0, 0, 0], [0, 0, 0], [0, 0, 0]]\n",
      "[[3, 6, 2], [2, 11, 1], [3, 17, 3], [1, 0, 1], [1, 19, 2], [0, 0, 0]]\n",
      "[[3, 3, 2], [4, 8, 5], [1, 15, 9], [2, 12, 3], [0, 0, 0], [0, 0, 0]]\n",
      "[[7, 15, 10], [2, 1, 2], [4, 1, 9], [7, 5, 14], [0, 0, 0], [0, 0, 0]]\n",
      "[[1, 1, 3], [0, 1, 2], [1, 2, 1], [0, 0, 0], [0, 0, 0], [0, 0, 0]]\n",
      "[[5, 2, 6], [2, 0, 5], [3, 0, 13], [10, 1, 9], [0, 0, 0], [0, 0, 0]]\n",
      "[[10, 6, 2], [7, 8, 1], [3, 5, 4], [10, 4, 4], [0, 0, 0], [0, 0, 0]]\n",
      "[[8, 0, 7], [3, 4, 1], [0, 2, 5], [0, 0, 0], [0, 0, 0], [0, 0, 0]]\n",
      "[[14, 15, 0], [12, 16, 2], [8, 10, 0], [6, 1, 0], [12, 8, 0], [0, 0, 0]]\n",
      "[[9, 4, 4], [0, 17, 1], [0, 1, 0], [12, 15, 3], [11, 7, 1], [13, 8, 7]]\n",
      "[[12, 0, 10], [8, 11, 10], [7, 11, 1], [15, 5, 10], [11, 8, 9], [0, 10, 3]]\n",
      "[[2, 0, 1], [4, 1, 5], [3, 2, 0], [0, 2, 2], [1, 1, 5], [1, 2, 4]]\n",
      "[[1, 3, 1], [0, 2, 6], [1, 1, 13], [0, 3, 15], [0, 0, 0], [0, 0, 0]]\n",
      "[[5, 7, 16], [6, 5, 5], [10, 3, 17], [2, 1, 13], [0, 0, 0], [0, 0, 0]]\n",
      "[[12, 0, 0], [6, 1, 1], [9, 1, 2], [1, 1, 2], [15, 0, 1], [0, 0, 1]]\n",
      "[[11, 13, 6], [2, 12, 4], [10, 8, 2], [0, 0, 0], [0, 0, 0], [0, 0, 0]]\n",
      "[[2, 0, 1], [0, 4, 0], [1, 7, 1], [2, 5, 0], [2, 9, 1], [3, 2, 0]]\n",
      "[[7, 0, 11], [10, 1, 5], [7, 1, 13], [9, 0, 0], [9, 0, 19], [9, 0, 9]]\n",
      "Found invalid game round [1, 14, 7]\n",
      "Found invalid game round [5, 4, 15]\n",
      "Found invalid game round [4, 0, 16]\n",
      "Found invalid game round [7, 2, 15]\n",
      "Found invalid game round [5, 0, 15]\n",
      "Found invalid game round [14, 1, 3]\n",
      "Found invalid game round [17, 8, 1]\n",
      "Found invalid game round [3, 16, 0]\n",
      "Found invalid game round [13, 1, 9]\n",
      "Found invalid game round [17, 6, 9]\n",
      "Found invalid game round [13, 7, 3]\n",
      "Found invalid game round [5, 18, 8]\n",
      "Found invalid game round [0, 1, 17]\n",
      "Found invalid game round [5, 14, 5]\n",
      "Found invalid game round [4, 15, 18]\n",
      "Found invalid game round [16, 14, 3]\n",
      "Found invalid game round [18, 15, 4]\n",
      "Found invalid game round [17, 2, 6]\n",
      "Found invalid game round [4, 15, 1]\n",
      "Found invalid game round [17, 3, 3]\n",
      "Found invalid game round [10, 17, 2]\n",
      "Found invalid game round [15, 1, 8]\n",
      "Found invalid game round [19, 11, 14]\n",
      "Found invalid game round [14, 5, 0]\n",
      "Found invalid game round [17, 5, 4]\n",
      "Found invalid game round [1, 1, 18]\n",
      "Found invalid game round [0, 13, 15]\n",
      "Found invalid game round [1, 14, 1]\n",
      "Found invalid game round [7, 18, 0]\n",
      "Found invalid game round [0, 16, 0]\n",
      "Found invalid game round [15, 7, 10]\n",
      "Found invalid game round [13, 5, 1]\n",
      "Found invalid game round [4, 14, 0]\n",
      "Found invalid game round [13, 3, 7]\n",
      "Found invalid game round [15, 16, 3]\n",
      "Found invalid game round [5, 16, 15]\n",
      "Found invalid game round [3, 14, 2]\n",
      "Found invalid game round [7, 16, 12]\n",
      "Found invalid game round [16, 11, 7]\n",
      "Found invalid game round [16, 0, 1]\n",
      "Found invalid game round [18, 8, 14]\n",
      "Found invalid game round [3, 17, 3]\n",
      "Found invalid game round [1, 15, 9]\n",
      "Found invalid game round [7, 15, 10]\n",
      "Found invalid game round [14, 15, 0]\n",
      "Found invalid game round [0, 17, 1]\n",
      "Found invalid game round [15, 5, 10]\n",
      "Found invalid game round [0, 3, 15]\n",
      "Found invalid game round [5, 7, 16]\n",
      "Found invalid game round [15, 0, 1]\n",
      "Found invalid game round [9, 0, 19]\n",
      "The total of all the acceptable game IDs is: 2406\n"
     ]
    }
   ],
   "source": [
    "lines = get_input()\n",
    "full_game = []\n",
    "for line in lines:\n",
    "    full_game.append(game_organiser(line))\n",
    "    \n",
    "ids_total = 0\n",
    "for index, game in enumerate(full_game):\n",
    "    if game_checker(game):\n",
    "        ids_total += index + 1\n",
    "        \n",
    "print(f\"The total of all the acceptable game IDs is: {ids_total}\")"
   ],
   "metadata": {
    "collapsed": false,
    "ExecuteTime": {
     "end_time": "2023-12-07T14:33:35.844964Z",
     "start_time": "2023-12-07T14:33:35.839246Z"
    }
   },
   "id": "538b2dbdd1945ee5"
  },
  {
   "cell_type": "markdown",
   "source": [
    "# --- Part Two ---\n",
    "\n",
    "The Elf says they've stopped producing snow because they aren't getting any water! He isn't sure why the water stopped; however, he can show you how to get to the water source to check it out for yourself. It's just up ahead!\n",
    "\n",
    "As you continue your walk, the Elf poses a second question: in each game you played, what is the fewest number of cubes of each color that could have been in the bag to make the game possible?\n",
    "\n",
    "Again consider the example games from earlier:\n",
    "\n",
    ">Game 1: 3 blue, 4 red; 1 red, 2 green, 6 blue; 2 green\n",
    "Game 2: 1 blue, 2 green; 3 green, 4 blue, 1 red; 1 green, 1 blue\n",
    "Game 3: 8 green, 6 blue, 20 red; 5 blue, 4 red, 13 green; 5 green, 1 red\n",
    "Game 4: 1 green, 3 red, 6 blue; 3 green, 6 red; 3 green, 15 blue, 14 red\n",
    "Game 5: 6 red, 1 blue, 3 green; 2 blue, 1 red, 2 green\n",
    "\n",
    "In game 1, the game could have been played with as few as 4 red, 2 green, and 6 blue cubes. If any color had even one fewer cube, the game would have been impossible.\n",
    "Game 2 could have been played with a minimum of 1 red, 3 green, and 4 blue cubes.\n",
    "Game 3 must have been played with at least 20 red, 13 green, and 6 blue cubes.\n",
    "Game 4 required at least 14 red, 3 green, and 15 blue cubes.\n",
    "Game 5 needed no fewer than 6 red, 3 green, and 2 blue cubes in the bag.\n",
    "\n",
    "The power of a set of cubes is equal to the numbers of red, green, and blue cubes multiplied together. The power of the minimum set of cubes in game 1 is 48. In games 2-5 it was 12, 1560, 630, and 36, respectively. Adding up these five powers produces the sum 2286.\n",
    "\n",
    "For each game, find the minimum set of cubes that must have been present. What is the sum of the power of these sets?"
   ],
   "metadata": {
    "collapsed": false
   },
   "id": "a3c761a95ce3051f"
  },
  {
   "cell_type": "code",
   "execution_count": 51,
   "outputs": [],
   "source": [
    "def find_minimum_cubes(game):\n",
    "    minimum = [0, 0, 0]\n",
    "    for game_round in game:\n",
    "        if game_round[0] > minimum[0]:\n",
    "            minimum[0] = game_round[0]\n",
    "        if game_round[1] > minimum[1]:\n",
    "            minimum[1] = game_round[1]\n",
    "        if game_round[2] > minimum[2]:\n",
    "            minimum[2] = game_round[2]\n",
    "    return minimum"
   ],
   "metadata": {
    "collapsed": false,
    "ExecuteTime": {
     "end_time": "2023-12-07T14:33:35.848626Z",
     "start_time": "2023-12-07T14:33:35.846071Z"
    }
   },
   "id": "1f0de19750b36e74"
  },
  {
   "cell_type": "code",
   "execution_count": 52,
   "outputs": [],
   "source": [
    "def find_set_power(minimum):\n",
    "    return minimum[0] * minimum[1] * minimum[2]"
   ],
   "metadata": {
    "collapsed": false,
    "ExecuteTime": {
     "end_time": "2023-12-07T14:33:35.852163Z",
     "start_time": "2023-12-07T14:33:35.849327Z"
    }
   },
   "id": "fde97bc8e4c58e2c"
  },
  {
   "cell_type": "code",
   "execution_count": 53,
   "outputs": [
    {
     "name": "stdout",
     "output_type": "stream",
     "text": [
      "The total power of the minimum cube sets for each game is: 78375\n"
     ]
    }
   ],
   "source": [
    "total_powers = 0\n",
    "for game in full_game:\n",
    "    total_powers += find_set_power(find_minimum_cubes(game))\n",
    "print(f\"The total power of the minimum cube sets for each game is: {total_powers}\")"
   ],
   "metadata": {
    "collapsed": false,
    "ExecuteTime": {
     "end_time": "2023-12-07T14:33:35.857557Z",
     "start_time": "2023-12-07T14:33:35.853352Z"
    }
   },
   "id": "4b86c00e2a87f452"
  },
  {
   "cell_type": "markdown",
   "source": [],
   "metadata": {
    "collapsed": false
   },
   "id": "860f3981f1623b40"
  }
 ],
 "metadata": {
  "kernelspec": {
   "display_name": "Python 3",
   "language": "python",
   "name": "python3"
  },
  "language_info": {
   "codemirror_mode": {
    "name": "ipython",
    "version": 2
   },
   "file_extension": ".py",
   "mimetype": "text/x-python",
   "name": "python",
   "nbconvert_exporter": "python",
   "pygments_lexer": "ipython2",
   "version": "2.7.6"
  }
 },
 "nbformat": 4,
 "nbformat_minor": 5
}
