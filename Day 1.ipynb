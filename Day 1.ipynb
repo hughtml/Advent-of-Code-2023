{
 "cells": [
  {
   "cell_type": "markdown",
   "source": [
    "# --- Day 1: Trebuchet?! ---\n",
    "\n",
    "Something is wrong with global snow production, and you've been selected to take a look. The Elves have even given you a map; on it, they've used stars to mark the top fifty locations that are likely to be having problems.\n",
    "\n",
    "You've been doing this long enough to know that to restore snow operations, you need to check all fifty stars by December 25th.\n",
    "\n",
    "Collect stars by solving puzzles. Two puzzles will be made available on each day in the Advent calendar; the second puzzle is unlocked when you complete the first. Each puzzle grants one star. Good luck!\n",
    "\n",
    "You try to ask why they can't just use a weather machine (\"not powerful enough\") and where they're even sending you (\"the sky\") and why your map looks mostly blank (\"you sure ask a lot of questions\") and hang on did you just say the sky (\"of course, where do you think snow comes from\") when you realize that the Elves are already loading you into a trebuchet (\"please hold still, we need to strap you in\").\n",
    "\n",
    "As they're making the final adjustments, they discover that their calibration document (your puzzle input) has been amended by a very young Elf who was apparently just excited to show off her art skills. Consequently, the Elves are having trouble reading the values on the document.\n",
    "\n",
    "The newly-improved calibration document consists of lines of text; each line originally contained a specific calibration value that the Elves now need to recover. On each line, the calibration value can be found by combining the first digit and the last digit (in that order) to form a single two-digit number.\n",
    "\n",
    "For example:\n",
    "\n",
    ">1abc2\n",
    ">pqr3stu8vwx\n",
    ">a1b2c3d4e5f\n",
    ">treb7uchet\n",
    "\n",
    "In this example, the calibration values of these four lines are 12, 38, 15, and 77. Adding these together produces 142.\n",
    "\n",
    "Consider your entire calibration document. What is the sum of all of the calibration values?\n",
    "\n"
   ],
   "metadata": {
    "collapsed": false
   },
   "id": "b8a2460f0ef275c5"
  },
  {
   "cell_type": "code",
   "execution_count": 43,
   "outputs": [],
   "source": [
    "def get_input():\n",
    "    lines = []\n",
    "    with open(\"Day1Input.txt\", encoding=\"utf-8\") as file:\n",
    "        for line in file:\n",
    "            lines.append(line.strip())\n",
    "    return lines"
   ],
   "metadata": {
    "collapsed": false,
    "ExecuteTime": {
     "end_time": "2023-12-04T23:31:52.652727Z",
     "start_time": "2023-12-04T23:31:52.651415Z"
    }
   },
   "id": "4cfddaac2322c24"
  },
  {
   "cell_type": "code",
   "execution_count": 44,
   "outputs": [],
   "source": [
    "def find_two_digits(line):\n",
    "    digits = []\n",
    "    for char in line:\n",
    "        if char.isnumeric():\n",
    "            digits.append(int(char))\n",
    "    if len(digits) > 1:\n",
    "        digits = [digits[0], digits[-1]]\n",
    "    else:\n",
    "        digits = [digits[0], digits[0]]\n",
    "    return digits"
   ],
   "metadata": {
    "collapsed": false,
    "ExecuteTime": {
     "end_time": "2023-12-04T23:31:52.660274Z",
     "start_time": "2023-12-04T23:31:52.653075Z"
    }
   },
   "id": "c36b84c50dbfd282"
  },
  {
   "cell_type": "code",
   "execution_count": 45,
   "outputs": [],
   "source": [
    "def get_line_number(digits):\n",
    "    return int(str(digits[0]) + str(digits[1]))"
   ],
   "metadata": {
    "collapsed": false,
    "ExecuteTime": {
     "end_time": "2023-12-04T23:31:52.664050Z",
     "start_time": "2023-12-04T23:31:52.661282Z"
    }
   },
   "id": "41925402945c72ba"
  },
  {
   "cell_type": "code",
   "execution_count": 46,
   "outputs": [
    {
     "name": "stdout",
     "output_type": "stream",
     "text": [
      "The sum of the calibration values is 54968\n"
     ]
    }
   ],
   "source": [
    "lines = get_input()\n",
    "total = 0\n",
    "for line in lines:\n",
    "    total += get_line_number(find_two_digits(line))\n",
    "print(f\"The sum of the calibration values is {total}\")"
   ],
   "metadata": {
    "collapsed": false,
    "ExecuteTime": {
     "end_time": "2023-12-04T23:31:52.674594Z",
     "start_time": "2023-12-04T23:31:52.667776Z"
    }
   },
   "id": "5a867731b759e64c"
  },
  {
   "cell_type": "markdown",
   "source": [
    "# --- Part Two ---\n",
    "\n",
    "Your calculation isn't quite right. It looks like some of the digits are actually spelled out with letters: one, two, three, four, five, six, seven, eight, and nine also count as valid \"digits\".\n",
    "\n",
    "Equipped with this new information, you now need to find the real first and last digit on each line. For example:\n",
    "\n",
    ">two1nine\n",
    ">eightwothree\n",
    ">abcone2threexyz\n",
    ">xtwone3four\n",
    ">4nineeightseven2\n",
    ">zoneight234\n",
    ">7pqrstsixteen\n",
    "\n",
    "In this example, the calibration values are 29, 83, 13, 24, 42, 14, and 76. Adding these together produces 281.\n",
    "\n",
    "What is the sum of all of the calibration values?"
   ],
   "metadata": {
    "collapsed": false
   },
   "id": "d6f16f0df2046feb"
  },
  {
   "cell_type": "code",
   "execution_count": 47,
   "outputs": [],
   "source": [
    "def find_numerical_chars(line):\n",
    "    positions_numbers = {}\n",
    "    for position, char in enumerate(line):\n",
    "        if char.isnumeric():\n",
    "            positions_numbers[position] = char\n",
    "    return positions_numbers"
   ],
   "metadata": {
    "collapsed": false,
    "ExecuteTime": {
     "end_time": "2023-12-04T23:31:52.699178Z",
     "start_time": "2023-12-04T23:31:52.676999Z"
    }
   },
   "id": "c7d8284a60e0ce10"
  },
  {
   "cell_type": "code",
   "execution_count": 48,
   "outputs": [],
   "source": [
    "def find_text_numbers(line):\n",
    "    positions_text = {}\n",
    "    text_numbers = [\"one\", \"two\", \"three\", \"four\", \"five\", \"six\", \"seven\", \"eight\", \"nine\"]\n",
    "    number_strings = [\"1\", \"2\", \"3\", \"4\", \"5\", \"6\", \"7\", \"8\", \"9\"]\n",
    "    for index, number in enumerate(text_numbers):\n",
    "        shortened_line = line\n",
    "        indexes_chopped = 0\n",
    "        while number in shortened_line:    \n",
    "            positions_text[shortened_line.find(number) + indexes_chopped] = number_strings[index]\n",
    "            shortened_line = shortened_line[shortened_line.find(number) + 1:]\n",
    "            indexes_chopped = len(line) - len(shortened_line)\n",
    "            #print(line[line.find(number) + 1:])\n",
    "    return positions_text   "
   ],
   "metadata": {
    "collapsed": false,
    "ExecuteTime": {
     "end_time": "2023-12-04T23:31:52.705150Z",
     "start_time": "2023-12-04T23:31:52.682126Z"
    }
   },
   "id": "a52ccfdc73ea26f1"
  },
  {
   "cell_type": "code",
   "execution_count": 49,
   "outputs": [
    {
     "name": "stdout",
     "output_type": "stream",
     "text": [
      "The sum of the calibration values is 54094\n"
     ]
    }
   ],
   "source": [
    "lines = get_input()\n",
    "new_total = 0\n",
    "for line in lines:\n",
    "    positions = find_numerical_chars(line)\n",
    "    positions.update(find_text_numbers(line))\n",
    "    positions = dict(sorted(positions.items()))\n",
    "    values = list(positions.values())\n",
    "    value = int(values[0] + values[-1])\n",
    "    new_total += value\n",
    "print(f\"The sum of the calibration values is {new_total}\")"
   ],
   "metadata": {
    "collapsed": false,
    "ExecuteTime": {
     "end_time": "2023-12-04T23:31:52.705398Z",
     "start_time": "2023-12-04T23:31:52.688074Z"
    }
   },
   "id": "d0c78e0dab2842c3"
  },
  {
   "cell_type": "code",
   "execution_count": 49,
   "outputs": [],
   "source": [],
   "metadata": {
    "collapsed": false,
    "ExecuteTime": {
     "end_time": "2023-12-04T23:31:52.705462Z",
     "start_time": "2023-12-04T23:31:52.694505Z"
    }
   },
   "id": "50aee4e6fb188faf"
  }
 ],
 "metadata": {
  "kernelspec": {
   "display_name": "Python 3",
   "language": "python",
   "name": "python3"
  },
  "language_info": {
   "codemirror_mode": {
    "name": "ipython",
    "version": 2
   },
   "file_extension": ".py",
   "mimetype": "text/x-python",
   "name": "python",
   "nbconvert_exporter": "python",
   "pygments_lexer": "ipython2",
   "version": "2.7.6"
  }
 },
 "nbformat": 4,
 "nbformat_minor": 5
}
